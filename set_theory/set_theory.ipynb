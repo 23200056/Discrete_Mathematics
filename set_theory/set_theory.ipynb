{
 "cells": [
  {
   "cell_type": "code",
   "execution_count": 20,
   "id": "b4b09e8d-6e6c-4497-bf49-164c123a6564",
   "metadata": {},
   "outputs": [],
   "source": [
    "from matplotlib_venn import venn2, venn2_circles, venn2_unweighted\n",
    "from matplotlib_venn import venn3, venn3_circles\n",
    "from matplotlib import pyplot as plt\n",
    "import pandas as pd\n",
    "%matplotlib inline"
   ]
  },
  {
   "cell_type": "code",
   "execution_count": 21,
   "id": "a254bce9-3413-4b78-aa64-e3c94a83ede6",
   "metadata": {},
   "outputs": [],
   "source": [
    "def drawVenn2(A,B,labels = ('A', 'B')):\n",
    "    '''\n",
    "    listing elements in Venn diagram of two sets\n",
    "    '''\n",
    "    v2=venn2([A,B],set_labels = labels);\n",
    "    v2.get_label_by_id('01').set_text(', '.join(map(str,B-A)))\n",
    "    v2.get_label_by_id('10').set_text(', '.join(map(str,A-B)))\n",
    "    if A&B:\n",
    "        v2.get_label_by_id('11').set_text(', '.join(map(str,A&B)))"
   ]
  },
  {
   "cell_type": "code",
   "execution_count": 22,
   "id": "c57cc694-4abf-48a2-a521-8b3e807aedac",
   "metadata": {},
   "outputs": [],
   "source": [
    "def drawVenn3(A,B,C,labels = ('A', 'B', 'C')):\n",
    "    '''\n",
    "    listing elements in Venn diagram of three sets, A, B, C\n",
    "    '''\n",
    "    v3=venn3([A,B,C],set_labels = labels);\n",
    "    if A-B-C:\n",
    "        v3.get_label_by_id('100').set_text('\\n'.join(map(str,A-B-C)))\n",
    "        v3.get_patch_by_id('100').set_alpha(0.6)\n",
    "        v3.get_patch_by_id('100').set_facecolor('Yellow')\n",
    "    if A&B-C:\n",
    "        v3.get_label_by_id('110').set_text('\\n'.join(map(str,A&B-C)))\n",
    "        v3.get_patch_by_id('110').set_alpha(0.3)\n",
    "        v3.get_patch_by_id('110').set_facecolor('Red')\n",
    "    if B-C-A:\n",
    "        v3.get_label_by_id('010').set_text('\\n'.join(map(str,B-C-A)))\n",
    "        v3.get_patch_by_id('010').set_alpha(0.6)\n",
    "        v3.get_patch_by_id('010').set_facecolor('Magenta')\n",
    "    if A&C-B:\n",
    "        v3.get_label_by_id('101').set_text('\\n'.join(map(str,A&C-B)))\n",
    "        v3.get_patch_by_id('101').set_alpha(0.3)\n",
    "        v3.get_patch_by_id('101').set_facecolor('Green')\n",
    "    if A&B&C:\n",
    "        v3.get_label_by_id('111').set_text('\\n'.join(map(str,A&B&C)))\n",
    "        v3.get_patch_by_id('111').set_alpha(0.1)\n",
    "        v3.get_patch_by_id('111').set_facecolor('Black')\n",
    "    if B&C-A:\n",
    "        v3.get_label_by_id('011').set_text('\\n'.join(map(str,B&C-A)))\n",
    "        v3.get_patch_by_id('011').set_alpha(0.3)\n",
    "        v3.get_patch_by_id('011').set_facecolor('Blue')\n",
    "    if C-B-A:\n",
    "        v3.get_label_by_id('001').set_text('\\n'.join(map(str,C-B-A)))\n",
    "        v3.get_patch_by_id('001').set_alpha(0.6)\n",
    "        v3.get_patch_by_id('001').set_facecolor('Cyan')"
   ]
  },
  {
   "cell_type": "markdown",
   "id": "93dc883f-a303-4c4c-b86d-292ff7f69362",
   "metadata": {},
   "source": [
    "# Proving Identities"
   ]
  },
  {
   "cell_type": "markdown",
   "id": "a8a6f988-bf7e-4240-a33f-17f918674630",
   "metadata": {},
   "source": [
    " - A $\\setminus$ B = A $\\cap$ $B^{c}$\n",
    "    - let x $\\in$ A $\\setminus$ B $\\therefore$ A $\\ni$ x $\\notin$ B\n",
    "    - since x $\\in$ A $\\therefore$ x $\\in$ A $\\cap$ $B^{c}$\n",
    "    - since x $\\notin$ B $\\therefore$ x $\\notin$ A $\\cap$ B\n",
    "    - since x $\\in$ A $\\setminus$ B $\\wedge$ A $\\cap$ $B^{c}$ $\\therefore$ A $\\setminus$ B = A $\\cap$ $B^{c}$\n"
   ]
  },
  {
   "cell_type": "markdown",
   "id": "92cd15db-ee2e-4b61-a8e8-9f1ee7dd8c60",
   "metadata": {},
   "source": [
    "- B = (B $\\cap$ A) $\\cup$ (B $\\cap$ $A^{c}$)\n",
    "    - let x $\\in$ B $\\therefore$ x $\\in$ B $\\cap$ A\n",
    "    - since x $\\in$ B $\\cap$ A $\\therefore$ x $\\in$ (B $\\cap$ A) $\\cup$ (B $\\cap$ $A^{c}$)\n",
    "    - since x $\\in$ (B $\\cap$ A) $\\cup$ (B $\\cap$ $A^{c}$) $\\therefore$ B $\\subseteq$ (B $\\cap$ A) $\\cup$ (B $\\cap$ $A^{c}$)\n",
    "    - let y $\\in$ (B $\\cap$ A) $\\cup$ (B $\\cap$ $A^{c}$) $\\therefore$ y $\\in$ B $\\cap$ A $\\vee$ B $\\cap$ $A^{c}$\n",
    "    - if y $\\in$ B $\\cap$ A, then y $\\in$ B\n",
    "    - if y $\\in$ B $\\cap$ $A^{c}$, then y $\\in$ B also\n",
    "    - since y $\\in$ B either way $\\therefore$ B $\\supseteq$ (B $\\cap$ A) $\\cup$ (B $\\cap$ $A^{c}$)\n",
    "    - since B $\\subseteq$ (B $\\cap$ A) $\\cup$ (B $\\cap$ $A^{c}$) $\\wedge$ B $\\supseteq$ (B $\\cap$ A) $\\cup$ (B $\\cap$ $A^{c}$) $\\therefore$ B = (B $\\cap$ A) $\\cup$ (B $\\cap$ $A^{c}$)"
   ]
  },
  {
   "cell_type": "markdown",
   "id": "06e94aba-e629-4204-88af-36d0d0820f73",
   "metadata": {},
   "source": [
    "- B $\\setminus$ A = B $\\cap$ $A^{c}$\n",
    "    - let x $\\in$ B $\\setminus$ A $\\therefore$ B $\\ni$ x $\\notin$ A\n",
    "    - since x $\\in$ B $\\therefore$ x $\\in$ B $\\cap$ $A^{c}$\n",
    "    - since x $\\notin$ A $\\therefore$ x $\\notin$ B $\\cap$ A\n",
    "    - since x $\\in$ B $\\setminus$ A $\\wedge$ B $\\cap$ $A^{c}$ $\\therefore$ B $\\setminus$ A = B $\\cap$ $A^{c}$"
   ]
  },
  {
   "cell_type": "markdown",
   "id": "5331874d-df58-431c-b430-cdae62fc31f0",
   "metadata": {},
   "source": [
    "- A $\\cup$ B = A $\\cup$ (B $\\cap$ $A^{c}$)\n",
    "    - let x $\\in$ A $\\cup$ B $\\therefore$ x $\\in$ A $\\vee$ B\n",
    "    - if x $\\in$ A, then x $\\in$ A $\\cup$ (B $\\cap$ $A^{c}$)\n",
    "    - if x $\\in$ B $\\wedge$ $\\notin$ A, then x $\\in$ A $\\cup$ (B $\\cap$ $A^{c}$) also\n",
    "    - since x $\\in$ A $\\vee$ B $\\cap$ $A^{c}$ $\\therefore$ x $\\in$ A $\\cup$ (B $\\cap$ $A^{c}$)\n",
    "    - since x $\\in$ A $\\cup$ (B $\\cap$ $A^{c}$)$\\therefore$ A $\\cup$ B $\\subseteq$ A $\\cup$ (B $\\cap$ $A^{c}$)\n",
    "    - let y $\\in$ A $\\cup$ (B $\\cap$ $A^{c}$) $\\therefore$ y $\\in$ A $\\vee$ B $\\cap$ $A^{c}$\n",
    "    - if y $\\in$ A, then y $\\in$ A $\\cup$ B\n",
    "    - if y $\\in$ B $\\cap$ $A^{c}$, then y $\\in$ A $\\cup$ B\n",
    "    - since y $\\in$ A $\\vee$ B $\\therefore$ y $\\in$ A $\\cup$ B\n",
    "    - since y $\\in$ A $\\cup$ B$\\therefore$ A $\\cup$ B $\\supseteq$ A $\\cup$ (B $\\cap$ $A^{c}$)\n",
    "    - since A $\\cup$ B $\\subseteq$ A $\\cup$ (B $\\cap$ $A^{c}$) $\\wedge$ A $\\cup$ B $\\supseteq$ A $\\cup$ (B $\\cap$ $A^{c}$) $\\therefore$ A $\\cup$ B = A $\\cup$ (B $\\cap$ $A^{c}$)"
   ]
  },
  {
   "cell_type": "markdown",
   "id": "24c61c65-0ef9-4636-bb8d-342175981cc9",
   "metadata": {},
   "source": [
    "- $(\\textbf{U}_{i=1}^{\\infty} A_{i}^{c})^{c}$ = $\\cap_{i=1}^{\\infty}A_{i}$\n",
    "    - let x $\\in$ $(\\textbf{U}_{i=1}^{\\infty} A_{i}^{c})^{c}$ $\\therefore$ x $\\notin$ $\\textbf{U}_{i=1}^{\\infty} A_{i}^{c}$\n",
    "    - since x $\\in$ $(\\textbf{U}_{i=1}^{\\infty} A_{i}^{c})^{c}$ $\\therefore$ x $\\in$ $A_{i}^{c}$\n",
    "    - since x $\\in$ $A_{i}^{c}$ $\\therefore$ x $\\notin$ A\n",
    "    - since x $\\notin$ A $\\therefore$ x $\\in$ $\\cap_{i=1}^{\\infty}A_{i}$\n",
    "    - since x $\\in$ $\\cap_{i=1}^{\\infty}A_{i}$ $\\therefore$ $(\\textbf{U}_{i=1}^{\\infty} A_{i}^{c})^{c}$ $\\subseteq$ $\\cap_{i=1}^{\\infty}A_{i}$\n",
    "    - let y $\\in$ $\\cap_{i=1}^{\\infty}A_{i}$ $\\therefore$ y $\\in$ A\n",
    "    - since y $\\in$ A $\\therefore$ y $\\notin$ $A_{i}^{c}$\n",
    "    - since y $\\notin$ $A_{i}^{c}$ $\\therefore$ y $\\notin$ $\\textbf{U}_{i=1}^{\\infty} A_{i}^{c}$\n",
    "    - since y $\\notin$ $\\textbf{U}_{i=1}^{\\infty} A_{i}^{c}$ $\\therefore$ y $\\in$ $(\\textbf{U}_{i=1}^{\\infty} A_{i}^{c})^{c}$\n",
    "    - since y $\\in$ $(\\textbf{U}_{i=1}^{\\infty} A_{i}^{c})^{c}$ $\\therefore$ $(\\textbf{U}_{i=1}^{\\infty} A_{i}^{c})^{c}$ $\\supseteq$ $\\cap_{i=1}^{\\infty}A_{i}$\n",
    "    - since $(\\textbf{U}_{i=1}^{\\infty} A_{i}^{c})^{c}$ $\\subseteq$ $\\cap_{i=1}^{\\infty}A_{i}$ $\\wedge$ $(\\textbf{U}_{i=1}^{\\infty} A_{i}^{c})^{c}$ $\\supseteq$ $\\cap_{i=1}^{\\infty}A_{i}$"
   ]
  },
  {
   "cell_type": "markdown",
   "id": "ab8fa447-0efc-4586-b87c-e6497b8ce2a2",
   "metadata": {},
   "source": [
    "- |A $\\cup$ B| = |A| + |B| - |A $\\cap$ B|\n",
    "    - let n $\\vee$ x $\\in$ A $\\therefore$ |A|= n + x\n",
    "    - let m $\\vee$ x $\\in$ B $\\therefore$ |B|= m + x\n",
    "    - since A $\\ni$ x $\\in$ B $\\therefore$ |A| + |B| = n + m + 2x\n",
    "    - since |A| + |B| = 2x $\\therefore$ |A| + |B| - |A $\\cap$ B|"
   ]
  },
  {
   "cell_type": "markdown",
   "id": "39a30cb6-b3c7-447b-b067-f9e8d84127de",
   "metadata": {},
   "source": [
    "# Sets and Subsets"
   ]
  },
  {
   "cell_type": "markdown",
   "id": "c26715f3-ec9c-47e9-a01c-f2a3ec2d2494",
   "metadata": {},
   "source": [
    "- If A = {2,3,4,5}, and B = {$x \\in \\mathbb{N} | x \\ is \\ even$}. Is A $\\subset$ B?\n",
    "    - A = {2,3,4,5}\n",
    "    - B = {$x \\in \\mathbb{N} | x \\ is \\ even$}\n",
    "    - 2 $\\in$ $\\wedge$ 2 $\\notin$ B\n",
    "    - 3 $\\in$ $\\wedge$ 3 $\\notin$ B\n",
    "    - 4 $\\in$ $\\wedge$ 4 $\\notin$ B\n",
    "    - 5 $\\in$ $\\wedge$ 5 $\\notin$ B\n",
    "    - A $\\not\\subset$ B"
   ]
  },
  {
   "cell_type": "markdown",
   "id": "9f77210e-d0dd-44bc-9abb-0abc6c8e8fcb",
   "metadata": {},
   "source": [
    "- Let sets $\\textbf{A} = \\{x|x \\in \\mathbb{Z}, 0 \\leq x \\leq 9\\},\n",
    "\\textbf{B} = \\{ 2,4,6,8\\},\n",
    "\\ and \\ \n",
    "\\textbf{C}  = \\{ 1,3,5,7,9\\}\n",
    "\\ and \\ \\textbf{D}  = \\{ 3,4,5\\}$\n",
    "Find a set $\\textbf{X}$ which will satisfy the following conditions:\n",
    "1. $\\textbf{X} \\ and \\ \\textbf{B}$ are disjoint.\n",
    "2. $\\textbf{X} \\subseteq \\textbf{D}$ but $\\textbf{X} \\nsubseteq \\textbf{B}$.\n",
    "3. $\\textbf{X} \\subseteq \\textbf{A}$ but $\\textbf{X} \\not\\subset \\textbf{C}$.\n",
    "    - $\\textbf{X} \\ and \\ \\textbf{B}$ are disjoint.\n",
    "        - $\\textbf{X}$ = {x $\\in$ $\\mathbb{U}$ | x $\\neq$ 2,4,6,8}\n",
    "    - $\\textbf{X} \\subseteq \\textbf{D}$ but $\\textbf{X} \\nsubseteq \\textbf{B}$.\n",
    "        - $\\textbf{X}$ = {3, 5}\n",
    "        - $\\textbf{X}$ = {3, 5}\n",
    "    - $\\textbf{X} \\subseteq \\textbf{A}$ but $\\textbf{X} \\not\\subset \\textbf{C}$.\n",
    "        - $\\textbf{X}$ = {3, 5}\n",
    "        - $\\textbf{X}$ = {}"
   ]
  },
  {
   "cell_type": "markdown",
   "id": "c99234c2-d785-44f6-b170-a74f528d4eeb",
   "metadata": {},
   "source": [
    "# Set Operations"
   ]
  },
  {
   "cell_type": "markdown",
   "id": "9d22ac9f-3f9e-48b5-a7e9-2daff2e790d9",
   "metadata": {},
   "source": [
    "Given:<br>\n",
    "$\\textbf{U} = \\{1,2,3,4,5\\}$<br>\n",
    "$\\textbf{A} = \\{1,2,3,4,5\\}$<br>\n",
    "$\\textbf{B} = \\{4,5,6,7\\}$<br>\n",
    "$\\textbf{C} = \\{5,6,7,8,9\\}$<br>\n",
    "$\\textbf{D} = \\{1,3,5,7,9\\}$<br>\n",
    "$\\textbf{E} = \\{2,4,6,8\\}$<br>\n",
    "$\\textbf{F} = \\{1,5,9\\}$<br>"
   ]
  },
  {
   "cell_type": "markdown",
   "id": "ebf65e2b-85eb-498e-a085-011f2c269a1a",
   "metadata": {},
   "source": [
    "- $\\textbf{C} \\oplus \\textbf{D}$|\n",
    "    - $\\textbf{C} \\oplus \\textbf{D} = (\\textbf{C} \\cup \\textbf{D}) \\setminus (\\textbf{C} \\cap \\textbf{D})$\n",
    "    - $\\textbf{C} \\cup \\textbf{D} = \\{5,6,7,8,9\\}$\n",
    "    - $\\textbf{C} \\cap \\textbf{D} = \\{1,3,5,7,9\\}$\n",
    "    - $\\textbf{C} \\oplus \\textbf{D} = \\{6,8,9\\}$"
   ]
  },
  {
   "cell_type": "markdown",
   "id": "fd14c16c-8a68-4192-84f7-e02343e8545d",
   "metadata": {},
   "source": [
    "- $\\textbf{A} \\setminus \\textbf{B}$\n",
    "    - $\\textbf{A} = \\{1,2,3,4,5\\}$\n",
    "    - $\\textbf{B} = \\{4,5,6,7\\}$\n",
    "    - $\\textbf{A} \\setminus \\textbf{B} = \\{1,2,3\\}$"
   ]
  },
  {
   "cell_type": "markdown",
   "id": "387cf92a-5187-4068-b0c0-34d058d114d3",
   "metadata": {},
   "source": [
    "- $\\textbf{B} \\backslash \\textbf{A}$\n",
    "    - $\\textbf{B} = \\{4,5,6,7\\}$\n",
    "    - $\\textbf{A} = \\{1,2,3,4,5\\}$\n",
    "    - $\\textbf{B} \\setminus \\textbf{A} = \\{6,7\\}$"
   ]
  },
  {
   "cell_type": "markdown",
   "id": "9efb4681-3a48-43df-95d8-36f7d9630ded",
   "metadata": {},
   "source": [
    "- $\\textbf{E} \\oplus \\textbf{F}$\n",
    "    - $\\textbf{E} \\oplus \\textbf{F} = (\\textbf{E} \\cup \\textbf{F}) \\setminus (\\textbf{E} \\cap \\textbf{F})$\n",
    "    - $\\textbf{E} \\cup \\textbf{F} = \\{1,2,4,5,6,8,9\\}$\n",
    "    - $\\textbf{E} \\cap \\textbf{F} = \\{\\}$\n",
    "    - $\\textbf{E} \\oplus \\textbf{F} = \\{1,2,4,5,6,8,9\\}$"
   ]
  },
  {
   "cell_type": "markdown",
   "id": "11643504-e695-48ce-97a9-43d9f88f1923",
   "metadata": {},
   "source": [
    "# Finite Sets and The Counting Principles"
   ]
  },
  {
   "cell_type": "markdown",
   "id": "cf4fed17-c06a-4179-a902-8544a4b92092",
   "metadata": {},
   "source": [
    "In a Survey of 120 People, it was found that:\n",
    "- 65 read Newsweek Magazine\n",
    "- 45 read Times Magazine\n",
    "- 42 read Fortune Magazine\n",
    "- 20 read Both Newsweek and Time\n",
    "- 25 read both Newsweek and Fortune\n",
    "- 15 read both Time and Fortune\n",
    "- 8 read all three magazines"
   ]
  },
  {
   "cell_type": "code",
   "execution_count": 30,
   "id": "18614518-f655-4398-8680-be97210e0bd9",
   "metadata": {},
   "outputs": [
    {
     "data": {
      "image/png": "[encoded data removed]",
      "text/plain": [
       "<Figure size 640x480 with 1 Axes>"
      ]
     },
     "metadata": {},
     "output_type": "display_data"
    }
   ],
   "source": [
    "A={65,20,25,8}\n",
    "B={45,20,15,8}\n",
    "C={42,25,15,8}\n",
    "drawVenn3(A,B,C, labels = ('Newsweek','Times','Fortune'))"
   ]
  },
  {
   "cell_type": "markdown",
   "id": "0d9a69da-c69c-42a5-a7d4-3d719a17e037",
   "metadata": {},
   "source": [
    "- $\\textbf{at least one} = |\\textbf{N} \\cup \\textbf{T} \\cup \\textbf{F}|$\n",
    "    - $|\\textbf{N} \\cup \\textbf{T} \\cup \\textbf{F}| = |\\textbf{N}| + |\\textbf{T}| + |\\textbf{F}| - (|\\textbf{N} \\cap \\textbf{T}| + |\\textbf{N} \\cap \\textbf{F}| + |\\textbf{T} \\cap \\textbf{F}|) + |\\textbf{N} \\cap \\textbf{T} \\cap \\textbf{F}|$\n",
    "    - $|\\textbf{N}| + |\\textbf{T}| + |\\textbf{F}| + |\\textbf{N} \\cap \\textbf{T} \\cap \\textbf{F}| = 65 + 45 + 42 + 8 = 160$\n",
    "    - $|\\textbf{N} \\cap \\textbf{T}| + |\\textbf{N} \\cap \\textbf{F}| + |\\textbf{T} \\cap \\textbf{F}| = 20 + 25 + 15 = 60$\n",
    "    - $|\\textbf{N} \\cup \\textbf{T} \\cup \\textbf{F}| = |\\textbf{N}| + |\\textbf{T}| + |\\textbf{F}| - (\\textbf{N}| \\cap \\textbf{T}| + |\\textbf{N} \\cap \\textbf{F}| + |\\textbf{T} \\cap \\textbf{F}|) + |\\textbf{N} \\cap \\textbf{T} \\cap \\textbf{F}| = 100$\n",
    "    - $\\textbf{at least one} = 100$"
   ]
  },
  {
   "cell_type": "markdown",
   "id": "c1cf9dd8-e7da-46a8-8c83-21e850b4e179",
   "metadata": {},
   "source": [
    "- $\\textbf{Exactly one} = \\textbf{Newsweek only} + \\textbf{Times only} + \\textbf{Fortune only}$\n",
    "    - $\\textbf{Newsweek only} = |\\textbf{N}| - (|\\textbf{N}| \\cap \\textbf{T}| + |\\textbf{N} \\cap \\textbf{F}| - |\\textbf{N} \\cap \\textbf{T} \\cap \\textbf{F}|)$\n",
    "        - $|\\textbf{N}| = 65$\n",
    "        - $|\\textbf{N}| \\cap \\textbf{T}| + |\\textbf{N} \\cap \\textbf{F}| - |\\textbf{N} \\cap \\textbf{T} \\cap \\textbf{F}| = 20 + 25 - 8$\n",
    "        - $\\textbf{Newsweek only} = 28$\n",
    "    - $\\textbf{Times only} = |\\textbf{T}| - (|\\textbf{N} \\cap \\textbf{T}| + |\\textbf{T} \\cap \\textbf{F}| - |\\textbf{N} \\cap \\textbf{T} \\cap \\textbf{F}|)$\n",
    "        - $|\\textbf{T}| = 45$\n",
    "        - $|\\textbf{N} \\cap \\textbf{T}| + |\\textbf{T} \\cap \\textbf{F}| - |\\textbf{N} \\cap \\textbf{T} \\cap \\textbf{F}| = 20 + 15 - 8$\n",
    "        - $\\textbf{Newsweek only} = 18$\n",
    "    - $\\textbf{Fortune only} = |\\textbf{F}| - (|\\textbf{N} \\cap \\textbf{F}| + |\\textbf{T} \\cap \\textbf{F}| - |\\textbf{N} \\cap \\textbf{T} \\cap \\textbf{F}|)$\n",
    "        - $|\\textbf{F}| = 42$\n",
    "        - $|\\textbf{N} \\cap \\textbf{F}| + |\\textbf{T} \\cap \\textbf{F}| - |\\textbf{N} \\cap \\textbf{T} \\cap \\textbf{F}| = 25 + 15 - 8$\n",
    "        - $\\textbf{Fortune only} = 10$\n",
    "    - $\\textbf{Exactly one} = 56$"
   ]
  },
  {
   "cell_type": "markdown",
   "id": "ae9e5dd2-c7cd-4c4e-b515-903521c0a48e",
   "metadata": {},
   "source": [
    "In a survey of 25 new cars being sold at a local auto dealer was conducted to see which of the three popular options: air-conditioning, denoted as A; radio, denoted as R; and power windows, denoted as W were installed. The survey found that:\n",
    "- 15 had A. HINT: The condition said $\\textbf{\"had an A\"}$  <font color='red'>$\\textbf{ AND NOT}$ <font color='black'>$\\textbf{\"had an A only\"}$\n",
    "- 12 had R. HINT: The condition said $\\textbf{\"had a R\"}$  <font color='red'>$\\textbf{ AND NOT}$ <font color='black'>$\\textbf{\"had a R only\"}$\n",
    "- 11 had W. HINT: The condition said $\\textbf{\"had a W\"}$  <font color='red'>$\\textbf{ AND NOT}$ <font color='black'>$\\textbf{\"had a W only\"}$\n",
    "- 5 had A and W.\n",
    "- 9 had A and R.\n",
    "- 4 had R and W.\n",
    "- Only 3 have the three options."
   ]
  },
  {
   "cell_type": "code",
   "execution_count": 37,
   "id": "179fbb16-5da7-4669-9321-9f314a0980a2",
   "metadata": {},
   "outputs": [
    {
     "data": {
      "image/png": "[encoded data removed]",
      "text/plain": [
       "<Figure size 640x480 with 1 Axes>"
      ]
     },
     "metadata": {},
     "output_type": "display_data"
    }
   ],
   "source": [
    "A={15,5,9,3}\n",
    "B={12,9,4,3}\n",
    "C={11,5,4,3}\n",
    "drawVenn3(A,B,C, labels = ('A','R','W'))"
   ]
  },
  {
   "cell_type": "markdown",
   "id": "2f7192de-0fcf-4af4-b5eb-e46a65e2086e",
   "metadata": {},
   "source": [
    "- $\\textbf{W only} = |\\textbf{W}| - (|\\textbf{A}| \\cap \\textbf{W}| + |\\textbf{R} \\cap \\textbf{W}| - |\\textbf{A} \\cap \\textbf{R} \\cap \\textbf{W}|)$\n",
    "    - $|\\textbf{W}| = 11$\n",
    "    - $|\\textbf{A}| \\cap \\textbf{W}| + |\\textbf{R} \\cap \\textbf{W}| - |\\textbf{A} \\cap \\textbf{R} \\cap \\textbf{W}| = 5 + 4 - 3$\n",
    "    - $\\textbf{W only} = 5$"
   ]
  },
  {
   "cell_type": "markdown",
   "id": "b2fcc98d-b4a8-478b-8448-f1d91a7e9b0a",
   "metadata": {},
   "source": [
    "- $\\textbf{A only} = |\\textbf{A}| - (|\\textbf{A}| \\cap \\textbf{W}| + |\\textbf{A} \\cap \\textbf{R}| - |\\textbf{A} \\cap \\textbf{R} \\cap \\textbf{W}|)$\n",
    "    - $|\\textbf{A}| = 15$\n",
    "    - $|\\textbf{A}| \\cap \\textbf{W}| + |\\textbf{A} \\cap \\textbf{R}| - |\\textbf{A} \\cap \\textbf{R} \\cap \\textbf{W}| = 5 + 9 - 3$\n",
    "    - $\\textbf{A only} = 4$"
   ]
  },
  {
   "cell_type": "markdown",
   "id": "d9fe81d6-5e48-40cb-b0bf-6253876dda0f",
   "metadata": {},
   "source": [
    "- $\\textbf{R only} = |\\textbf{R}| - (|\\textbf{A}| \\cap \\textbf{R}| + |\\textbf{R} \\cap \\textbf{W}| - |\\textbf{A} \\cap \\textbf{R} \\cap \\textbf{W}|)$\n",
    "    - $|\\textbf{R}| = 12$\n",
    "    - $|\\textbf{A}| \\cap \\textbf{R}| + |\\textbf{R} \\cap \\textbf{W}| - |\\textbf{A} \\cap \\textbf{R} \\cap \\textbf{W}| = 9 + 4 - 3$\n",
    "    - $\\textbf{R only} = 2$"
   ]
  },
  {
   "cell_type": "markdown",
   "id": "ff7789e3-3e1f-4f24-9992-fcebd3b699f1",
   "metadata": {},
   "source": [
    "- $\\textbf{R and W not A} = |\\textbf{R} \\cap \\textbf{W}| - |\\textbf{A} \\cap \\textbf{R} \\cap \\textbf{W}|$\n",
    "    - $|\\textbf{R} \\cap \\textbf{W}| = 4$\n",
    "    - $|\\textbf{A} \\cap \\textbf{R} \\cap \\textbf{W}| = 3$\n",
    "    - $\\textbf{R and W not A} = 1$"
   ]
  },
  {
   "cell_type": "markdown",
   "id": "142a7a1d-a2ee-4b0c-983d-7a93c1b11b69",
   "metadata": {},
   "source": [
    "- $\\textbf{A and R not W} = |\\textbf{A} \\cap \\textbf{R}| - |\\textbf{A} \\cap \\textbf{R} \\cap \\textbf{W}|$\n",
    "    - $|\\textbf{A} \\cap \\textbf{R}| = 9$\n",
    "    - $|\\textbf{A} \\cap \\textbf{R} \\cap \\textbf{W}| = 3$\n",
    "    - $\\textbf{A and R not W} = 6$"
   ]
  },
  {
   "cell_type": "markdown",
   "id": "97730505-7c46-4fa6-ad2e-40da32c8d547",
   "metadata": {},
   "source": [
    "- $\\textbf{only one} = \\textbf{A only} + \\textbf{R only} + \\textbf{W only}$\n",
    "    - $\\textbf{A only} = 4$\n",
    "    - $\\textbf{R only} = 2$\n",
    "    - $\\textbf{W only} = 5$\n",
    "    - $\\textbf{only one} = 11$"
   ]
  },
  {
   "cell_type": "markdown",
   "id": "6235569b-3b3d-4d30-b153-24eebb5f3fe9",
   "metadata": {},
   "source": [
    "- $\\textbf{at least one} = |\\textbf{A} \\cup \\textbf{R} \\cup \\textbf{W}| = |\\textbf{A}| + |\\textbf{R}| + |\\textbf{W}| - (|\\textbf{A} \\cap \\textbf{R}| + |\\textbf{A} \\cap \\textbf{W} + |\\textbf{R} \\cap \\textbf{W}|) + |\\textbf{A} \\cap \\textbf{R} \\cap \\textbf{W}|$\n",
    "    - $|\\textbf{A}| + |\\textbf{R}| + |\\textbf{W}| + |\\textbf{A} \\cap \\textbf{R} \\cap \\textbf{W}| = 15 + 12 + 11 + 3 = 41$\n",
    "    - $|\\textbf{A} \\cap \\textbf{R}| + |\\textbf{A} \\cap \\textbf{W} + |\\textbf{R} \\cap \\textbf{W}| =  9 + 5 + 4 = 18$\n",
    "    - $\\textbf{at least one} = 23$"
   ]
  },
  {
   "cell_type": "markdown",
   "id": "143f6fa0-e31a-4982-8cf7-77b0040af502",
   "metadata": {},
   "source": [
    "- $\\textbf{none} = |\\textbf{U}| - |\\textbf{A} \\cap \\textbf{R} \\cap \\textbf{W}|$\n",
    "    - $|\\textbf{U}| = 25$\n",
    "    - $|\\textbf{A} \\cap \\textbf{R} \\cap \\textbf{W}| = 23$\n",
    "    - $\\textbf{none} = 2$"
   ]
  },
  {
   "cell_type": "code",
   "execution_count": null,
   "id": "5826952c-5dcd-45e6-9a01-02c904bad5e8",
   "metadata": {},
   "outputs": [],
   "source": []
  }
 ],
 "metadata": {
  "kernelspec": {
   "display_name": "Python 3 (ipykernel)",
   "language": "python",
   "name": "python3"
  },
  "language_info": {
   "codemirror_mode": {
    "name": "ipython",
    "version": 3
   },
   "file_extension": ".py",
   "mimetype": "text/x-python",
   "name": "python",
   "nbconvert_exporter": "python",
   "pygments_lexer": "ipython3",
   "version": "3.11.5"
  }
 },
 "nbformat": 4,
 "nbformat_minor": 5
}
